{
 "cells": [
  {
   "cell_type": "markdown",
   "metadata": {
    "collapsed": true,
    "pycharm": {
     "name": "#%% md\n"
    }
   },
   "source": [
    "# Benchmarking DenseDepth #"
   ]
  },
  {
   "cell_type": "code",
   "execution_count": 9,
   "outputs": [],
   "source": [
    "import os\n",
    "import sys\n",
    "import random\n",
    "\n",
    "import tensorflow as tf\n",
    "import numpy as np\n",
    "import matplotlib.pyplot as plt\n",
    "\n",
    "from PIL import Image"
   ],
   "metadata": {
    "collapsed": false,
    "pycharm": {
     "name": "#%%\n"
    }
   }
  },
  {
   "cell_type": "markdown",
   "source": [
    "#### NYU Data Loader ####\n",
    "\n",
    "NYU v2 dataset is available [here](https://drive.google.com/drive/folders/1TzwfNA5JRFTPO-kHMU___kILmOEodoBo).\n",
    "Download and unzip to proceed with this notebook."
   ],
   "metadata": {
    "collapsed": false,
    "pycharm": {
     "name": "#%% md\n"
    }
   }
  },
  {
   "cell_type": "code",
   "execution_count": 10,
   "outputs": [],
   "source": [
    "'''\n",
    "Load NYU Dataset for evaluation.\n",
    "    Args:\n",
    "        path - path to nyu dataset test directory.\n",
    "        count - how many images to load.\n",
    "        return - a tuple of numpy arrays of rgb and corresponding depth images.\n",
    "'''\n",
    "def load_nyu_images(path: str, count=111) -> (np.array, np.array):\n",
    "\n",
    "    # Collect image path\n",
    "    rgb_img_path = []\n",
    "    depth_img_path = []\n",
    "\n",
    "    with os.scandir(path) as it:\n",
    "        for entry in it:\n",
    "            if not entry.name.startswith('.') and entry.is_file():\n",
    "                if \"colors.png\" in entry.name:\n",
    "                    rgb_img_path.append(entry.name)\n",
    "                elif \"depth.png\" in entry.name:\n",
    "                    depth_img_path.append(entry.name)\n",
    "\n",
    "    rgb_img_path = [path + \"/\" + name for name in sorted(rgb_img_path)]\n",
    "    depth_img_path = [path + \"/\" + name for name in sorted(depth_img_path)]\n",
    "\n",
    "    rgb_img = [np.clip(np.asarray(Image.open(path), dtype=float) / 255, 0, 1) for path in rgb_img_path[:count]]\n",
    "    depth_img = [np.asarray(Image.open(path), dtype=float) for path in depth_img_path[:count]]\n",
    "    depth_img = [1000 / np.clip(1000 * img / np.max(img), 10, 1000) for img in depth_img]\n",
    "\n",
    "    return np.stack(rgb_img), np.stack(depth_img)"
   ],
   "metadata": {
    "collapsed": false,
    "pycharm": {
     "name": "#%%\n"
    }
   }
  },
  {
   "cell_type": "markdown",
   "source": [
    "#### Load Model ####\n",
    "\n",
    "Get pretrained DeepDense model (~200MB) from [here](https://s3-eu-west-1.amazonaws.com/densedepth/nyu.h5)."
   ],
   "metadata": {
    "collapsed": false,
    "pycharm": {
     "name": "#%% md\n"
    }
   }
  },
  {
   "cell_type": "code",
   "execution_count": 11,
   "outputs": [],
   "source": [
    "# Path to the directory containing `layers.py`\n",
    "sys.path.append(\"../models\")\n",
    "from densedepth import BilinearUpSampling2D\n",
    "\n",
    "# Custom object needed for model inference..\n",
    "custom_objects = {'BilinearUpSampling2D': BilinearUpSampling2D, 'depth_loss_function': None}\n",
    "model = tf.keras.models.load_model(\"/Users/slava/Downloads/nyu.h5\",\n",
    "                                   custom_objects=custom_objects,\n",
    "                                   compile=False)"
   ],
   "metadata": {
    "collapsed": false,
    "pycharm": {
     "name": "#%%\n"
    }
   }
  },
  {
   "cell_type": "markdown",
   "source": [
    "#### Predict NYU Depth ####\n",
    "Run loaded NYU test images through the model to get predicted depth."
   ],
   "metadata": {
    "collapsed": false,
    "pycharm": {
     "name": "#%% md\n"
    }
   }
  },
  {
   "cell_type": "code",
   "execution_count": null,
   "outputs": [],
   "source": [
    "# Load Images\n",
    "nyu_rgb, nyu_depth = load_nyu_images(\"/Users/slava/Downloads/nyu_data/data/nyu2_test\")\n",
    "\n",
    "# Predict Depth\n",
    "prediction_depth = model.predict(nyu_rgb)\n"
   ],
   "metadata": {
    "collapsed": false,
    "pycharm": {
     "name": "#%%\n",
     "is_executing": true
    }
   }
  },
  {
   "cell_type": "markdown",
   "source": [
    "#### Visualize Prediction ####\n",
    "\n",
    "Pick a random triple of images from the batch."
   ],
   "metadata": {
    "collapsed": false,
    "pycharm": {
     "name": "#%% md\n"
    }
   }
  },
  {
   "cell_type": "code",
   "execution_count": null,
   "outputs": [],
   "source": [
    "random_index = random.randrange(prediction_depth.shape[0])"
   ],
   "metadata": {
    "collapsed": false,
    "pycharm": {
     "name": "#%%\n",
     "is_executing": true
    }
   }
  },
  {
   "cell_type": "code",
   "execution_count": null,
   "outputs": [],
   "source": [
    "f, axarr = plt.subplots(ncols=3, figsize=(12, 8))\n",
    "\n",
    "for ax in axarr:\n",
    "    ax.axis(\"off\")\n",
    "\n",
    "print(\"Prediction Without Normalization\")\n",
    "axarr[0].set_title(\"Prediction\")\n",
    "axarr[0].imshow(prediction_depth[random_index, :, :, 0])\n",
    "\n",
    "axarr[1].set_title(\"Ground Truth\")\n",
    "axarr[1].imshow(10 * nyu_depth[random_index, :, :])\n",
    "\n",
    "axarr[2].set_title(\"Color Image\")\n",
    "axarr[2].imshow(nyu_rgb[random_index, :, :])\n",
    "\n",
    "plt.show()"
   ],
   "metadata": {
    "collapsed": false,
    "pycharm": {
     "name": "#%%\n",
     "is_executing": true
    }
   }
  },
  {
   "cell_type": "markdown",
   "source": [
    "#### Normalize Prediction and Ground Truth ####\n",
    "\n",
    "Apply Z score normalization to both predictions and truth.\n",
    "Normalization is required to further compare errors among different datasets.\n",
    "\n",
    "Visualize to check if the result is still valid -- should not visually differ much from non-normalized."
   ],
   "metadata": {
    "collapsed": false,
    "pycharm": {
     "name": "#%% md\n"
    }
   }
  },
  {
   "cell_type": "code",
   "execution_count": null,
   "outputs": [],
   "source": [
    "f, axarr = plt.subplots(ncols=3, figsize=(12, 8))\n",
    "\n",
    "for ax in axarr:\n",
    "    ax.axis(\"off\")\n",
    "\n",
    "prediction_norm = (prediction_depth[random_index, :, :, 0] - np.mean(prediction_depth[random_index, :, :, 0])) / np.std(prediction_depth[random_index, :, :, 0])\n",
    "truth_norm = (nyu_depth[random_index, :, :] - np.mean(nyu_depth[random_index, :, :])) / np.std(nyu_depth[random_index, :, :])\n",
    "\n",
    "print(np.mean(prediction_norm), np.mean(truth_norm))\n",
    "print(\"Prediction Normalized\")\n",
    "axarr[0].set_title(\"Prediction\")\n",
    "axarr[0].imshow(prediction_norm)\n",
    "\n",
    "axarr[1].set_title(\"Ground Truth\")\n",
    "axarr[1].imshow(truth_norm)\n",
    "\n",
    "axarr[2].set_title(\"Color Image\")\n",
    "axarr[2].imshow(nyu_rgb[random_index, :, :])\n"
   ],
   "metadata": {
    "collapsed": false,
    "pycharm": {
     "name": "#%%\n",
     "is_executing": true
    }
   }
  }
 ],
 "metadata": {
  "kernelspec": {
   "display_name": "Python 3",
   "language": "python",
   "name": "python3"
  },
  "language_info": {
   "codemirror_mode": {
    "name": "ipython",
    "version": 2
   },
   "file_extension": ".py",
   "mimetype": "text/x-python",
   "name": "python",
   "nbconvert_exporter": "python",
   "pygments_lexer": "ipython2",
   "version": "2.7.6"
  }
 },
 "nbformat": 4,
 "nbformat_minor": 0
}